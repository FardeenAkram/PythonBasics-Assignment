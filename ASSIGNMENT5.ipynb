{
 "cells": [
  {
   "cell_type": "markdown",
   "id": "d67a1c72",
   "metadata": {},
   "source": [
    "**1. What does an empty dictionary's code look like?**\n",
    "\n",
    " An empty pair of curly braces {} is an empty dictionary."
   ]
  },
  {
   "cell_type": "markdown",
   "id": "ef29214e",
   "metadata": {},
   "source": [
    "**2. What is the value of a dictionary value with the key 'foo' and the value 42?**"
   ]
  },
  {
   "cell_type": "code",
   "execution_count": 1,
   "id": "2317d211",
   "metadata": {},
   "outputs": [
    {
     "data": {
      "text/plain": [
       "{'foo': 42}"
      ]
     },
     "execution_count": 1,
     "metadata": {},
     "output_type": "execute_result"
    }
   ],
   "source": [
    "dic={'foo':42}\n",
    "dic"
   ]
  },
  {
   "cell_type": "markdown",
   "id": "a3aefc78",
   "metadata": {},
   "source": [
    "**3. What is the main difference between a dictionary and a list?**\n",
    "\n",
    "The elements in a list are ordered, and the elements in a dictionary aren't.\n",
    "Also, elements in a list must be accessed using numerical indices. Elements in a dictionary are indexed using keys, which can have different data types. "
   ]
  },
  {
   "cell_type": "markdown",
   "id": "8116b4c2",
   "metadata": {},
   "source": [
    "**4. What happens if you try to access spam['foo'] if spam is {'bar': 100}?**\n",
    "\n",
    "You will get a KeyError error."
   ]
  },
  {
   "cell_type": "markdown",
   "id": "5e94d9aa",
   "metadata": {},
   "source": [
    "**5. If a dictionary is stored in spam, what is the difference between the expressions 'cat' in spam and 'cat' in spam.keys()?**\n",
    "\n",
    "There is no difference, the expression \" 'cat' in spam \" checks whether 'cat' is a key in spam.\n",
    "\n",
    "\n",
    "**6. If a dictionary is stored in spam, what is the difference between the expressions 'cat' in spam and 'cat' in spam.values()?**\n",
    "\n",
    "'cat' in spam checks whether'cat' exists as a key in spam. 'cat' in spam.values() checks whether 'cat' is a value in spam."
   ]
  },
  {
   "cell_type": "markdown",
   "id": "03d774c9",
   "metadata": {},
   "source": [
    "**7. What is a shortcut for the following code?**"
   ]
  },
  {
   "cell_type": "markdown",
   "id": "c69841a0",
   "metadata": {},
   "source": [
    "**if 'color' not in spam:**\n",
    "\n",
    "    spam['color'] = 'black'"
   ]
  },
  {
   "cell_type": "markdown",
   "id": "b58823ab",
   "metadata": {},
   "source": [
    "**spam.setdefault('color','black')**"
   ]
  },
  {
   "cell_type": "markdown",
   "id": "e625abb9",
   "metadata": {},
   "source": [
    "\n",
    "**8. What module and function can be used to “pretty print” dictionary values?**\n",
    "\n",
    "The module is pprint.\n",
    "The functions are pprint.pprint() and pprint.pformat()."
   ]
  }
 ],
 "metadata": {
  "kernelspec": {
   "display_name": "Python 3 (ipykernel)",
   "language": "python",
   "name": "python3"
  },
  "language_info": {
   "codemirror_mode": {
    "name": "ipython",
    "version": 3
   },
   "file_extension": ".py",
   "mimetype": "text/x-python",
   "name": "python",
   "nbconvert_exporter": "python",
   "pygments_lexer": "ipython3",
   "version": "3.9.13"
  }
 },
 "nbformat": 4,
 "nbformat_minor": 5
}
