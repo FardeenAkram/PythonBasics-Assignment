{
  "nbformat": 4,
  "nbformat_minor": 0,
  "metadata": {
    "colab": {
      "provenance": [],
      "collapsed_sections": []
    },
    "kernelspec": {
      "name": "python3",
      "display_name": "Python 3"
    },
    "language_info": {
      "name": "python"
    }
  },
  "cells": [
    {
      "cell_type": "markdown",
      "source": [
        "**1. Write a Python program to convert kilometers to miles?**"
      ],
      "metadata": {
        "id": "RG6ogwY5HSIS"
      }
    },
    {
      "cell_type": "code",
      "source": [
        "km = float(input(\"Enter an input in kilometres : \"))\n",
        "miles= km * 0.621371 #to convert km to miles we need to multiply it with 0.621371\n",
        "print(f\"{km} kms is the same as {miles} miles\")"
      ],
      "metadata": {
        "colab": {
          "base_uri": "https://localhost:8080/"
        },
        "id": "HQ1Wyn9MHWAS",
        "outputId": "64562167-4759-46e8-ed97-83671508a200"
      },
      "execution_count": 5,
      "outputs": [
        {
          "output_type": "stream",
          "name": "stdout",
          "text": [
            "Enter an input in kilometres : 55\n",
            "55.0 kms is the same as 34.175405 miles\n"
          ]
        }
      ]
    },
    {
      "cell_type": "markdown",
      "source": [
        "**2. Write a Python program to convert Celsius to Fahrenheit?**"
      ],
      "metadata": {
        "id": "OSaG_vyiIILy"
      }
    },
    {
      "cell_type": "code",
      "source": [
        "celcius = float(input(\"Enter an input in celcius : \"))\n",
        "fahrenheit = (celcius *1.8) + 32\n",
        "print(f\"{celcius} degree celcius is same as {fahrenheit} degree fahrenheit \")"
      ],
      "metadata": {
        "colab": {
          "base_uri": "https://localhost:8080/"
        },
        "id": "QjSSJm1SILXR",
        "outputId": "ef7db34e-c87f-4bf9-8e44-5d921f691b8c"
      },
      "execution_count": 4,
      "outputs": [
        {
          "output_type": "stream",
          "name": "stdout",
          "text": [
            "Enter an input in celcius : 75\n",
            "75.0 degree celcius is same as 167.0 degree fahrenheit \n"
          ]
        }
      ]
    },
    {
      "cell_type": "markdown",
      "source": [
        "**3. Write a Python program to display calendar?**"
      ],
      "metadata": {
        "id": "bFkhji4QJJ20"
      }
    },
    {
      "cell_type": "code",
      "source": [
        "import calendar\n",
        "yy = int(input(\"Enter the year : \"))\n",
        "print(\" \")\n",
        "print(calendar.calendar(yy))"
      ],
      "metadata": {
        "colab": {
          "base_uri": "https://localhost:8080/"
        },
        "id": "Opr1VZWiJNAm",
        "outputId": "646c9906-6111-4501-e2bd-9afe8052dd8b"
      },
      "execution_count": 9,
      "outputs": [
        {
          "output_type": "stream",
          "name": "stdout",
          "text": [
            "Enter the year : 2022\n",
            " \n",
            "                                  2022\n",
            "\n",
            "      January                   February                   March\n",
            "Mo Tu We Th Fr Sa Su      Mo Tu We Th Fr Sa Su      Mo Tu We Th Fr Sa Su\n",
            "                1  2          1  2  3  4  5  6          1  2  3  4  5  6\n",
            " 3  4  5  6  7  8  9       7  8  9 10 11 12 13       7  8  9 10 11 12 13\n",
            "10 11 12 13 14 15 16      14 15 16 17 18 19 20      14 15 16 17 18 19 20\n",
            "17 18 19 20 21 22 23      21 22 23 24 25 26 27      21 22 23 24 25 26 27\n",
            "24 25 26 27 28 29 30      28                        28 29 30 31\n",
            "31\n",
            "\n",
            "       April                      May                       June\n",
            "Mo Tu We Th Fr Sa Su      Mo Tu We Th Fr Sa Su      Mo Tu We Th Fr Sa Su\n",
            "             1  2  3                         1             1  2  3  4  5\n",
            " 4  5  6  7  8  9 10       2  3  4  5  6  7  8       6  7  8  9 10 11 12\n",
            "11 12 13 14 15 16 17       9 10 11 12 13 14 15      13 14 15 16 17 18 19\n",
            "18 19 20 21 22 23 24      16 17 18 19 20 21 22      20 21 22 23 24 25 26\n",
            "25 26 27 28 29 30         23 24 25 26 27 28 29      27 28 29 30\n",
            "                          30 31\n",
            "\n",
            "        July                     August                  September\n",
            "Mo Tu We Th Fr Sa Su      Mo Tu We Th Fr Sa Su      Mo Tu We Th Fr Sa Su\n",
            "             1  2  3       1  2  3  4  5  6  7                1  2  3  4\n",
            " 4  5  6  7  8  9 10       8  9 10 11 12 13 14       5  6  7  8  9 10 11\n",
            "11 12 13 14 15 16 17      15 16 17 18 19 20 21      12 13 14 15 16 17 18\n",
            "18 19 20 21 22 23 24      22 23 24 25 26 27 28      19 20 21 22 23 24 25\n",
            "25 26 27 28 29 30 31      29 30 31                  26 27 28 29 30\n",
            "\n",
            "      October                   November                  December\n",
            "Mo Tu We Th Fr Sa Su      Mo Tu We Th Fr Sa Su      Mo Tu We Th Fr Sa Su\n",
            "                1  2          1  2  3  4  5  6                1  2  3  4\n",
            " 3  4  5  6  7  8  9       7  8  9 10 11 12 13       5  6  7  8  9 10 11\n",
            "10 11 12 13 14 15 16      14 15 16 17 18 19 20      12 13 14 15 16 17 18\n",
            "17 18 19 20 21 22 23      21 22 23 24 25 26 27      19 20 21 22 23 24 25\n",
            "24 25 26 27 28 29 30      28 29 30                  26 27 28 29 30 31\n",
            "31\n",
            "\n"
          ]
        }
      ]
    },
    {
      "cell_type": "markdown",
      "source": [
        "**4. Write a Python program to solve quadratic equation?**"
      ],
      "metadata": {
        "id": "XpNSS_GMKYNZ"
      }
    },
    {
      "cell_type": "code",
      "source": [
        "import cmath\n",
        "a= int(input(\"Enter a number : \"))\n",
        "b= int(input(\"Enter a number : \"))\n",
        "c= int(input(\"Enter a number : \"))\n",
        "\n",
        "#calculate the discriminant\n",
        "d=(b**2) - (4*a*c)\n",
        "\n",
        "#find two solutions\n",
        "sol1= (-b - cmath.sqrt(d))/(2*a)\n",
        "sol2= (-b + cmath.sqrt(d))/(2*a)\n",
        "\n",
        "print (f\"The two solutions are : {sol1} and {sol2}.\")"
      ],
      "metadata": {
        "colab": {
          "base_uri": "https://localhost:8080/"
        },
        "id": "Ay0sA8c5KcBe",
        "outputId": "676c3e34-9722-4d85-fed5-63a556a83e67"
      },
      "execution_count": 11,
      "outputs": [
        {
          "output_type": "stream",
          "name": "stdout",
          "text": [
            "Enter a number : 3\n",
            "Enter a number : -5\n",
            "Enter a number : 2\n",
            "The two solutions are : (0.6666666666666666+0j) and (1+0j).\n"
          ]
        }
      ]
    },
    {
      "cell_type": "markdown",
      "source": [
        "**5. Write a Python program to swap two variables without temp variable?**"
      ],
      "metadata": {
        "id": "m10AbDm3MGsO"
      }
    },
    {
      "cell_type": "code",
      "source": [
        "a= 28\n",
        "b= 18\n",
        "print(f\"Value of a before swapping : {a}\")\n",
        "print(f\"Value of b before swapping : {b}\")\n",
        "\n",
        "a,b=b,a\n",
        "\n",
        "print(f\"Value of a after swapping : {a}\")\n",
        "print(f\"Value of b after swapping : {b}\")"
      ],
      "metadata": {
        "colab": {
          "base_uri": "https://localhost:8080/"
        },
        "id": "ghH5n102MK1k",
        "outputId": "a449900c-4e9d-434e-bbde-afa85a3aa2b8"
      },
      "execution_count": 16,
      "outputs": [
        {
          "output_type": "stream",
          "name": "stdout",
          "text": [
            "Value of a before swapping : 28\n",
            "Value of b before swapping : 18\n",
            "Value of a after swapping : 18\n",
            "Value of b after swapping : 28\n"
          ]
        }
      ]
    }
  ]
}