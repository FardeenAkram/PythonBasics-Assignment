{
  "nbformat": 4,
  "nbformat_minor": 0,
  "metadata": {
    "colab": {
      "provenance": [],
      "collapsed_sections": []
    },
    "kernelspec": {
      "name": "python3",
      "display_name": "Python 3"
    },
    "language_info": {
      "name": "python"
    }
  },
  "cells": [
    {
      "cell_type": "markdown",
      "source": [
        "**1. What are the two values of the Boolean data type? How do you write them?**"
      ],
      "metadata": {
        "id": "KrXTVQ0ZO7wM"
      }
    },
    {
      "cell_type": "markdown",
      "source": [
        "The two boolean values are: \n",
        "- True \n",
        "- False"
      ],
      "metadata": {
        "id": "si3Rsw_aO_yw"
      }
    },
    {
      "cell_type": "markdown",
      "source": [
        "**2. What are the three different types of Boolean operators?**"
      ],
      "metadata": {
        "id": "9DHuFVONPF8P"
      }
    },
    {
      "cell_type": "markdown",
      "source": [
        "Three different types of boolean operators are 🇰\n",
        "- and \n",
        "- or\n",
        "- not "
      ],
      "metadata": {
        "id": "lHJqWkC5PK2H"
      }
    },
    {
      "cell_type": "markdown",
      "source": [
        "**3. Make a list of each Boolean operator truth tables (i.e. every possible combination of Boolean values for the operator and what it evaluate).**"
      ],
      "metadata": {
        "id": "xrmV2nREPVOk"
      }
    },
    {
      "cell_type": "markdown",
      "source": [
        "Vegetable | Salt | Dish\n",
        "-|-|-\n",
        "F|F|F\n",
        "F|T|F\n",
        "T|F|F\n",
        "T|T|T"
      ],
      "metadata": {
        "id": "0bYPCb_QPe1R"
      }
    },
    {
      "cell_type": "markdown",
      "source": [
        "``` python \n",
        "not True is False\n",
        "not False is True \n",
        "```"
      ],
      "metadata": {
        "id": "7bMQNkJHaUUk"
      }
    },
    {
      "cell_type": "markdown",
      "source": [
        "**4. What are the values of the following expressions?**\n",
        "\n",
        "- (5 > 4) and (3 == 5) : FALSE\n",
        "- not (5 > 4) : FALSE\n",
        "- (5 > 4) or (3 == 5) : TRUE\n",
        "- not ((5 > 4) or (3 == 5)) : FALSE\n",
        "- (True and True) and (True == False) : FALSE\n",
        "- (not False) or (not True) : TRUE"
      ],
      "metadata": {
        "id": "0HQVwzGlQDG4"
      }
    },
    {
      "cell_type": "markdown",
      "source": [
        "**5. What are the six comparison operators?**"
      ],
      "metadata": {
        "id": "e08oeh18RwI3"
      }
    },
    {
      "cell_type": "markdown",
      "source": [
        "Six comparison operators are:\n",
        "- ==\n",
        "- !=\n",
        "- < , >\n",
        "- <= , >="
      ],
      "metadata": {
        "id": "rEOubMQ5R3XQ"
      }
    },
    {
      "cell_type": "markdown",
      "source": [
        "**6. How do you tell the difference between the equal to and assignment operators?Describe a condition and when you would use one.**"
      ],
      "metadata": {
        "id": "w-DTOHP7SDaN"
      }
    },
    {
      "cell_type": "markdown",
      "source": [
        "== is a comparison operator that compares two values and evaluates to a Boolean value while = is an assignment operator that stores a value in a variable."
      ],
      "metadata": {
        "id": "5QgOAlXrSH_m"
      }
    },
    {
      "cell_type": "code",
      "source": [
        "a = 5 #we assign a to 5\n",
        "if a == 7: #comparison operator\n",
        "  print(\"Value is correct\")\n",
        "else:\n",
        "  print(\"Value not correct\")"
      ],
      "metadata": {
        "colab": {
          "base_uri": "https://localhost:8080/"
        },
        "id": "_pJlJYnySoX4",
        "outputId": "ccec7469-d985-4584-9d69-4cc748a0a99b"
      },
      "execution_count": 2,
      "outputs": [
        {
          "output_type": "stream",
          "name": "stdout",
          "text": [
            "Value not correct\n"
          ]
        }
      ]
    },
    {
      "cell_type": "markdown",
      "source": [
        "**7. Identify the three blocks in this code:**\n",
        "```python\n",
        "spam = 0\n",
        "if spam == 10:\n",
        "print('eggs')\n",
        "if spam > 5:\n",
        "print('bacon')\n",
        "else:\n",
        "print('ham')\n",
        "print('spam')\n",
        "print('spam') \n",
        "```"
      ],
      "metadata": {
        "id": "e_mw3dOuTG2c"
      }
    },
    {
      "cell_type": "code",
      "source": [
        "#The three blocks are everything inside theif statement and the lines print(\"bacon\") and print(\"ham\")\n",
        "spam = 0\n",
        "if spam == 10:\n",
        "  print('eggs')\n",
        "if spam > 5:\n",
        "  print('bacon')\n",
        "else:\n",
        "  print('ham')\n",
        "print('spam')\n",
        "print('spam')"
      ],
      "metadata": {
        "colab": {
          "base_uri": "https://localhost:8080/"
        },
        "id": "x45fhrn4TlXO",
        "outputId": "d654dc8c-8e62-4bf9-9fe5-3c3e54e20597"
      },
      "execution_count": 20,
      "outputs": [
        {
          "output_type": "stream",
          "name": "stdout",
          "text": [
            "ham\n",
            "spam\n",
            "spam\n"
          ]
        }
      ]
    },
    {
      "cell_type": "markdown",
      "source": [
        "**8. Write code that prints Hello if 1 is stored in spam, prints Howdy if 2 is stored in spam, and prints **\n",
        "\n",
        "**Greetings! if anything else is stored in spam.**"
      ],
      "metadata": {
        "id": "H99esFUoUsnA"
      }
    },
    {
      "cell_type": "code",
      "source": [
        "spam = int(input(\"Enter an integer : \"))\n",
        "if spam ==1 :\n",
        "  print(\"Hello\")\n",
        "elif spam == 2:\n",
        "  print(\"Howdy\")\n",
        "else:\n",
        "  print(\"Greetings!\")"
      ],
      "metadata": {
        "colab": {
          "base_uri": "https://localhost:8080/"
        },
        "id": "GGv_52IFUxRD",
        "outputId": "9289c38a-cc19-425a-8e01-41f120aad1d4"
      },
      "execution_count": 8,
      "outputs": [
        {
          "output_type": "stream",
          "name": "stdout",
          "text": [
            "Enter an integer : 5\n",
            "Greetings!\n"
          ]
        }
      ]
    },
    {
      "cell_type": "code",
      "source": [
        "spam = int(input(\"Enter an integer : \"))\n",
        "if spam ==1 :\n",
        "  print(\"Hello\")\n",
        "elif spam == 2:\n",
        "  print(\"Howdy\")\n",
        "else:\n",
        "  print(\"Greetings!\")"
      ],
      "metadata": {
        "colab": {
          "base_uri": "https://localhost:8080/"
        },
        "id": "u9loeCIRWBRb",
        "outputId": "976a6dd7-d9d1-44fe-fc68-71d57e4cfb92"
      },
      "execution_count": 9,
      "outputs": [
        {
          "output_type": "stream",
          "name": "stdout",
          "text": [
            "Enter an integer : 2\n",
            "Howdy\n"
          ]
        }
      ]
    },
    {
      "cell_type": "code",
      "source": [
        "spam = int(input(\"Enter an integer : \"))\n",
        "if spam ==1 :\n",
        "  print(\"Hello\")\n",
        "elif spam == 2:\n",
        "  print(\"Howdy\")\n",
        "else:\n",
        "  print(\"Greetings!\")"
      ],
      "metadata": {
        "colab": {
          "base_uri": "https://localhost:8080/"
        },
        "id": "c2vP7txeWEaI",
        "outputId": "3ac289c3-87a6-4d73-e3ba-2484f18a7198"
      },
      "execution_count": 10,
      "outputs": [
        {
          "output_type": "stream",
          "name": "stdout",
          "text": [
            "Enter an integer : 1\n",
            "Hello\n"
          ]
        }
      ]
    },
    {
      "cell_type": "markdown",
      "source": [
        "**9.If your programme is stuck in an endless loop, what keys you’ll press?**"
      ],
      "metadata": {
        "id": "Za3hAIOUWIvJ"
      }
    },
    {
      "cell_type": "markdown",
      "source": [
        "You can stop an endless loop with CTRL + C. "
      ],
      "metadata": {
        "id": "yOePEVGLWMa4"
      }
    },
    {
      "cell_type": "markdown",
      "source": [
        "**10. How can you tell the difference between break and continue?**"
      ],
      "metadata": {
        "id": "QV_r-OuAWYul"
      }
    },
    {
      "cell_type": "markdown",
      "source": [
        "The main difference between break and continue statement is that when break keyword is encountered, it will exit the loop. In case of continue keyword, the current iteration that is running will be stopped, and it will proceed with the next iteration. The continue statement will move the execution to the start of the loop."
      ],
      "metadata": {
        "id": "YXQr8F3jWcTo"
      }
    },
    {
      "cell_type": "markdown",
      "source": [
        "**11. In a for loop, what is the difference between range(10), range(0, 10), and range(0, 10, 1)?**"
      ],
      "metadata": {
        "id": "shpDgNMaXOpa"
      }
    },
    {
      "cell_type": "code",
      "source": [
        "list(range(10)) #gives the range between 0 and 10 as starting point if not given is taken as 0 by default and the last number 10 is not included"
      ],
      "metadata": {
        "colab": {
          "base_uri": "https://localhost:8080/"
        },
        "id": "VkzLB6wMXUsw",
        "outputId": "0706c688-27df-418b-c5d8-81fbfd80d0a4"
      },
      "execution_count": 14,
      "outputs": [
        {
          "output_type": "execute_result",
          "data": {
            "text/plain": [
              "[0, 1, 2, 3, 4, 5, 6, 7, 8, 9]"
            ]
          },
          "metadata": {},
          "execution_count": 14
        }
      ]
    },
    {
      "cell_type": "code",
      "source": [
        "list(range(0,10)) #gives the same output as earlier and explicitly gives us the starting point as 0"
      ],
      "metadata": {
        "colab": {
          "base_uri": "https://localhost:8080/"
        },
        "id": "GEFWmuGwXWhO",
        "outputId": "bf2a540f-4f8d-4bd4-8948-e81e2baad787"
      },
      "execution_count": 15,
      "outputs": [
        {
          "output_type": "execute_result",
          "data": {
            "text/plain": [
              "[0, 1, 2, 3, 4, 5, 6, 7, 8, 9]"
            ]
          },
          "metadata": {},
          "execution_count": 15
        }
      ]
    },
    {
      "cell_type": "code",
      "source": [
        "list(range(0,10,1)) #gives same output but here it explicitly tells the loop to incraese the variable by 1 on each iteration"
      ],
      "metadata": {
        "colab": {
          "base_uri": "https://localhost:8080/"
        },
        "id": "PJ36M60qXYmd",
        "outputId": "394a30e4-0a0a-4e0b-a4de-a170683d4646"
      },
      "execution_count": 16,
      "outputs": [
        {
          "output_type": "execute_result",
          "data": {
            "text/plain": [
              "[0, 1, 2, 3, 4, 5, 6, 7, 8, 9]"
            ]
          },
          "metadata": {},
          "execution_count": 16
        }
      ]
    },
    {
      "cell_type": "markdown",
      "source": [
        "**12. Write a short program that prints the numbers 1 to 10 using a for loop. Then write an equivalent program that prints the numbers 1 to 10 using a while loop.**"
      ],
      "metadata": {
        "id": "Jq5nS0B0YGjb"
      }
    },
    {
      "cell_type": "code",
      "source": [
        "for i in range(1,11):\n",
        "  print(i)"
      ],
      "metadata": {
        "colab": {
          "base_uri": "https://localhost:8080/"
        },
        "id": "-OC-8ESVYK0C",
        "outputId": "eb85f9f5-7b4d-4008-fb2e-ab4bf94fd9bb"
      },
      "execution_count": 18,
      "outputs": [
        {
          "output_type": "stream",
          "name": "stdout",
          "text": [
            "1\n",
            "2\n",
            "3\n",
            "4\n",
            "5\n",
            "6\n",
            "7\n",
            "8\n",
            "9\n",
            "10\n"
          ]
        }
      ]
    },
    {
      "cell_type": "code",
      "source": [
        "i=1\n",
        "while i <=10:\n",
        "  print(i)\n",
        "  i=i+1"
      ],
      "metadata": {
        "colab": {
          "base_uri": "https://localhost:8080/"
        },
        "id": "HjXSBNqzYQRW",
        "outputId": "fa83004c-0e02-4a97-9c96-3dcb757c889e"
      },
      "execution_count": 19,
      "outputs": [
        {
          "output_type": "stream",
          "name": "stdout",
          "text": [
            "1\n",
            "2\n",
            "3\n",
            "4\n",
            "5\n",
            "6\n",
            "7\n",
            "8\n",
            "9\n",
            "10\n"
          ]
        }
      ]
    },
    {
      "cell_type": "markdown",
      "source": [
        "**13. If you had a function named bacon() inside a module named spam, how would you call it after importing spam?**"
      ],
      "metadata": {
        "id": "MvbaxiMeYdkR"
      }
    },
    {
      "cell_type": "markdown",
      "source": [
        "The function can be called using spam.bacon()."
      ],
      "metadata": {
        "id": "DNYWpbqnYjd_"
      }
    }
  ]
}