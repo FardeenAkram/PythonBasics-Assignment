{
  "nbformat": 4,
  "nbformat_minor": 0,
  "metadata": {
    "colab": {
      "provenance": [],
      "collapsed_sections": []
    },
    "kernelspec": {
      "name": "python3",
      "display_name": "Python 3"
    },
    "language_info": {
      "name": "python"
    }
  },
  "cells": [
    {
      "cell_type": "markdown",
      "source": [
        "**1. Write a Python program to print \"Hello Python\"?**"
      ],
      "metadata": {
        "id": "-gq2Fb1j4QcM"
      }
    },
    {
      "cell_type": "code",
      "source": [
        "print(\"Hello Python\")"
      ],
      "metadata": {
        "colab": {
          "base_uri": "https://localhost:8080/"
        },
        "id": "3SGPynJ14WZe",
        "outputId": "32a57a99-61df-42f3-fd15-e3b4d073ae2d"
      },
      "execution_count": 1,
      "outputs": [
        {
          "output_type": "stream",
          "name": "stdout",
          "text": [
            "Hello Python\n"
          ]
        }
      ]
    },
    {
      "cell_type": "markdown",
      "source": [
        "**2. Write a Python program to do arithmetical operations addition and division.?**"
      ],
      "metadata": {
        "id": "hWFSswN-4ZVl"
      }
    },
    {
      "cell_type": "code",
      "source": [
        "a = 50\n",
        "b = 10\n",
        "sum = a+b\n",
        "division= a/b\n",
        "print(f\"The sum is: {sum}\")\n",
        "print(f\"The division result is {division}\")"
      ],
      "metadata": {
        "colab": {
          "base_uri": "https://localhost:8080/"
        },
        "id": "hgTYXhmG4b8P",
        "outputId": "50997efa-91fe-4c0d-f967-888996121d92"
      },
      "execution_count": 2,
      "outputs": [
        {
          "output_type": "stream",
          "name": "stdout",
          "text": [
            "The sum is: 60\n",
            "The division result is 5.0\n"
          ]
        }
      ]
    },
    {
      "cell_type": "markdown",
      "source": [
        "**3. Write a Python program to find the area of a triangle?**"
      ],
      "metadata": {
        "id": "jSkQr6oQ4u35"
      }
    },
    {
      "cell_type": "code",
      "source": [
        "a= float(input(\"Enter side one : \"))\n",
        "b= float(input(\"Enter side two : \"))\n",
        "c= float(input(\"Enter side three : \"))\n",
        "s= (a+b+c)/2\n",
        "area= (s*(s-a)*(s-b)*(s-c))**0.5\n",
        "print(f\"The area of a scalene triangle is {area}\")"
      ],
      "metadata": {
        "colab": {
          "base_uri": "https://localhost:8080/"
        },
        "id": "U9iN9PnM4yLX",
        "outputId": "4f1fc938-2891-4523-bae2-3f6c70e7a998"
      },
      "execution_count": 5,
      "outputs": [
        {
          "output_type": "stream",
          "name": "stdout",
          "text": [
            "Enter side one : 7\n",
            "Enter side two : 5\n",
            "Enter side three : 8\n",
            "The area of a scalene triangle is 17.320508075688775\n"
          ]
        }
      ]
    },
    {
      "cell_type": "markdown",
      "source": [
        "**4. Write a Python program to swap two variables?**"
      ],
      "metadata": {
        "id": "g-E38oZH9hgb"
      }
    },
    {
      "cell_type": "code",
      "source": [
        "a=5\n",
        "b=9\n",
        "print(f\"The value of a before swapping : {a}\")\n",
        "print(f\"The value of b before swapping : {b}\")\n",
        "#swapping two variables\n",
        "temp=a\n",
        "a=b\n",
        "b=temp\n",
        "print(f\"The value of a after swapping : {a}\")\n",
        "print(f\"The value of b after swapping : {b}\")"
      ],
      "metadata": {
        "colab": {
          "base_uri": "https://localhost:8080/"
        },
        "id": "3CINKyGl9j1h",
        "outputId": "0472a663-9bf0-42af-f425-4c06fdaa6b3f"
      },
      "execution_count": 7,
      "outputs": [
        {
          "output_type": "stream",
          "name": "stdout",
          "text": [
            "The value of a before swapping : 5\n",
            "The value of b before swapping : 9\n",
            "The value of a after swapping : 9\n",
            "The value of b after swapping : 5\n"
          ]
        }
      ]
    },
    {
      "cell_type": "markdown",
      "source": [
        "**5. Write a Python program to generate a random number?**"
      ],
      "metadata": {
        "id": "VhtHDfod-HxE"
      }
    },
    {
      "cell_type": "code",
      "source": [
        "#randomly generates any number\n",
        "import random\n",
        "n = random.random()\n",
        "print(n)"
      ],
      "metadata": {
        "colab": {
          "base_uri": "https://localhost:8080/"
        },
        "id": "Ddx7YHf1-KAm",
        "outputId": "9e7ad6a7-90a5-435b-da2e-de5fbb6148b3"
      },
      "execution_count": 8,
      "outputs": [
        {
          "output_type": "stream",
          "name": "stdout",
          "text": [
            "0.16274652607058637\n"
          ]
        }
      ]
    },
    {
      "cell_type": "code",
      "source": [
        "#generates a random number between 0 and 10\n",
        "q= random.randint(0,10)\n",
        "print(q)"
      ],
      "metadata": {
        "colab": {
          "base_uri": "https://localhost:8080/"
        },
        "id": "Qq0_kvMnFIlO",
        "outputId": "a40e061e-415b-44b2-9f83-f4e56e7c880f"
      },
      "execution_count": 10,
      "outputs": [
        {
          "output_type": "stream",
          "name": "stdout",
          "text": [
            "8\n"
          ]
        }
      ]
    }
  ]
}