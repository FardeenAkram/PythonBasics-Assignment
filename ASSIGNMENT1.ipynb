{
  "nbformat": 4,
  "nbformat_minor": 0,
  "metadata": {
    "colab": {
      "provenance": [],
      "collapsed_sections": []
    },
    "kernelspec": {
      "name": "python3",
      "display_name": "Python 3"
    },
    "language_info": {
      "name": "python"
    }
  },
  "cells": [
    {
      "cell_type": "markdown",
      "source": [
        "**1. In the below elements which of them are values or an expression? eg:- values can be integer or string and expressions will be mathematical operators.**"
      ],
      "metadata": {
        "id": "PrqBW8ub_HsJ"
      }
    },
    {
      "cell_type": "code",
      "source": [
        "* : expression\n",
        "hello : values\n",
        "87.8 : values\n",
        "- : expression\n",
        "/ : expression\n",
        "+ : expression\n",
        "6 : values"
      ],
      "metadata": {
        "id": "_nqf9-ePApdt"
      },
      "execution_count": null,
      "outputs": []
    },
    {
      "cell_type": "markdown",
      "source": [
        "**2. What is the difference between string and variable?**"
      ],
      "metadata": {
        "id": "nrQYOGzQ_soi"
      }
    },
    {
      "cell_type": "markdown",
      "source": [
        "A variable is a means to store value in a memory location and to manipulate it when needed. For example, \n",
        "\n",
        "x= 10 , x=20\n",
        "\n",
        "Here x is a variable. Thus, in the above program , the variable x is created when you assign the value 10 to it, meaning that a memory address is allocated to store the value 10. Later, when you re-assign using x=20, the value in the corressponding memory address will be changed to 20. A variable can be of several types integer, float, string, boolean and complex based on the values youa assign it to.\n",
        "\n",
        "A string is anything you assign to a variable using quotes(single or double). Thus, it is one of the types of a variable. For example, \n",
        "\n",
        "y = \"Fardeen\""
      ],
      "metadata": {
        "id": "_H3rtHEhA4hW"
      }
    },
    {
      "cell_type": "markdown",
      "source": [
        "**3. Describe three different data types.**"
      ],
      "metadata": {
        "id": "izzWdHcZDCz_"
      }
    },
    {
      "cell_type": "markdown",
      "source": [
        "1. Integer (int) : It is the most common numeric data type used to store numbers without a fractional component (-707, 0, 707).\n",
        "\n",
        "2. Floating Point (float) : It is also a numeric data type used to store numbers that may have a fractional component like monetary values do (707.07, 0.7, 707.00).\n",
        "\n",
        "3. Boolean (bool) : It represents the values true and false. When working with the boolean data type, it is helpful to keep in mind that sometimes a boolean value is also represented as 0 (for false) and 1 (for true)."
      ],
      "metadata": {
        "id": "Zp15Xh1HDNj_"
      }
    },
    {
      "cell_type": "markdown",
      "source": [
        "**4. What is an expression made up of? What do all expressions do?**"
      ],
      "metadata": {
        "id": "7NAoYgACDyiC"
      }
    },
    {
      "cell_type": "markdown",
      "source": [
        "An expression is a combination of operators, constants and variables. An expression may consist of one or more operands, and zero or more operators to produce a value. An expression gives us some value depending on whatever we have written.\n",
        "\n",
        "Example:\n",
        "\n",
        "- a+b\n",
        "- 4%6\n",
        "- s-1/7*f\n",
        "\n",
        "- Constant expressions: Constant Expressions consists of only constant values. A constant value is one that doesn’t change.\n",
        "\n",
        "Examples:\n",
        "5\n",
        "\n",
        "10 + 5 / 6.0\n",
        "\n",
        "'x’\n",
        "\n",
        "- Integral expressions: Integral Expressions are those which produce integer results after implementing all the automatic and explicit type conversions.\n",
        "\n",
        "Examples:\n",
        "\n",
        "x\n",
        "\n",
        "x * y\n",
        "\n",
        "x + int(5.0)\n",
        "\n",
        "where x and y are integer variables.\n",
        "\n",
        "- Floating expressions: Float Expressions are which produce floating point results after implementing all the automatic and explicit type conversions.\n",
        "\n",
        "Examples:\n",
        "\n",
        "x + y\n",
        "\n",
        "10.75\n",
        "\n",
        "where x and y are floating point variables.\n",
        "\n",
        "- Relational expressions: Relational Expressions yield results of type bool which takes a value true or false. When arithmetic expressions are used on either side of a relational operator, they will be evaluated first and then the results compared. Relational expressions are also known as Boolean expressions.\n",
        "\n",
        "Examples:\n",
        "\n",
        "x <= y\n",
        "\n",
        "x + y > 2\n",
        "\n",
        "- Logical expressions: Logical Expressions combine two or more relational expressions and produces bool type results.\n",
        "\n",
        "Examples:\n",
        "\n",
        "x > y && x == 10\n",
        "\n",
        "x == 10 || y == 5 "
      ],
      "metadata": {
        "id": "IBFr20IJD3WG"
      }
    },
    {
      "cell_type": "markdown",
      "source": [
        "**5. This assignment statements, like spam = 10. What is the difference between an expression and a statement?**"
      ],
      "metadata": {
        "id": "K9ea9JlqHBWA"
      }
    },
    {
      "cell_type": "markdown",
      "source": [
        "Statements represent an action or command e.g print statements, assignment statements. Example,  print(2 * 2) \n",
        "\n",
        "Expression is a combination of variables, operations and values that yields a result value. Example, 2*2"
      ],
      "metadata": {
        "id": "LzJKiyNrHIiu"
      }
    },
    {
      "cell_type": "markdown",
      "source": [
        "**6. After running the following code, what does the variable bacon contain?**\n",
        "\n",
        "bacon = 22\n",
        "\n",
        "bacon + 1 "
      ],
      "metadata": {
        "id": "8b1j2ymWH8T9"
      }
    },
    {
      "cell_type": "code",
      "source": [
        "bacon = 22\n",
        "\n",
        "bacon + 1\n"
      ],
      "metadata": {
        "colab": {
          "base_uri": "https://localhost:8080/"
        },
        "id": "0wRqQudkIHLf",
        "outputId": "23251511-d022-4629-9ebf-edd63f7ca04d"
      },
      "execution_count": 1,
      "outputs": [
        {
          "output_type": "execute_result",
          "data": {
            "text/plain": [
              "23"
            ]
          },
          "metadata": {},
          "execution_count": 1
        }
      ]
    },
    {
      "cell_type": "markdown",
      "source": [
        "bacon contains 23 which is an integer."
      ],
      "metadata": {
        "id": "N3w2dIneIRg6"
      }
    },
    {
      "cell_type": "markdown",
      "source": [
        "**7. What should the values of the following two terms be?**\n",
        "\n",
        "'spam' +  'spamspam'\n",
        "\n",
        "'spam' * 3 "
      ],
      "metadata": {
        "id": "fIkaxMarIL4v"
      }
    },
    {
      "cell_type": "code",
      "source": [
        "'spam' + 'spamspam'"
      ],
      "metadata": {
        "colab": {
          "base_uri": "https://localhost:8080/",
          "height": 35
        },
        "id": "bw9Blx5gICLB",
        "outputId": "46776c1c-61f8-4c0e-824e-71353b3c1905"
      },
      "execution_count": 2,
      "outputs": [
        {
          "output_type": "execute_result",
          "data": {
            "text/plain": [
              "'spamspamspam'"
            ],
            "application/vnd.google.colaboratory.intrinsic+json": {
              "type": "string"
            }
          },
          "metadata": {},
          "execution_count": 2
        }
      ]
    },
    {
      "cell_type": "code",
      "source": [
        "'spam' * 3"
      ],
      "metadata": {
        "colab": {
          "base_uri": "https://localhost:8080/",
          "height": 35
        },
        "id": "frXa8Um9I2IP",
        "outputId": "2e8f6b05-859f-4768-dee7-8f324b63ea7e"
      },
      "execution_count": 3,
      "outputs": [
        {
          "output_type": "execute_result",
          "data": {
            "text/plain": [
              "'spamspamspam'"
            ],
            "application/vnd.google.colaboratory.intrinsic+json": {
              "type": "string"
            }
          },
          "metadata": {},
          "execution_count": 3
        }
      ]
    },
    {
      "cell_type": "markdown",
      "source": [
        "**8. Why is eggs a valid variable name while 100 is invalid?**"
      ],
      "metadata": {
        "id": "nytC_VOrI4Mn"
      }
    },
    {
      "cell_type": "markdown",
      "source": [
        "eggs is a valid variable name because it is not a reserved keyword in python and it follows all the naming convention for a variable in python. whereas, 100 starts with a numeric value and a variable should not start with a number. "
      ],
      "metadata": {
        "id": "pqsWA5EnI9Ih"
      }
    },
    {
      "cell_type": "markdown",
      "source": [
        "**9. What three functions can be used to get the integer, floating-point number, or string version of a value?**"
      ],
      "metadata": {
        "id": "vJcxpQhYJRmp"
      }
    },
    {
      "cell_type": "markdown",
      "source": [
        "The int(), float(), and str() functions will evaluate to the intege, floating point number and string versions of the value passed to them."
      ],
      "metadata": {
        "id": "FJEN3PahJrQn"
      }
    },
    {
      "cell_type": "markdown",
      "source": [
        "**10. Why does this expression cause an error? How can you fix it?**\n",
        "\n",
        "'I have eaten' + 99 + 'burritos.'"
      ],
      "metadata": {
        "id": "TjfhKKYDNMZH"
      }
    },
    {
      "cell_type": "code",
      "source": [
        "'I have eaten' + str(99) + 'burritos.'"
      ],
      "metadata": {
        "colab": {
          "base_uri": "https://localhost:8080/",
          "height": 35
        },
        "id": "P0dngxkENgGH",
        "outputId": "b1130aa5-0a69-4648-e3da-01a2bd74f733"
      },
      "execution_count": 4,
      "outputs": [
        {
          "output_type": "execute_result",
          "data": {
            "text/plain": [
              "'I have eaten99burritos.'"
            ],
            "application/vnd.google.colaboratory.intrinsic+json": {
              "type": "string"
            }
          },
          "metadata": {},
          "execution_count": 4
        }
      ]
    }
  ]
}