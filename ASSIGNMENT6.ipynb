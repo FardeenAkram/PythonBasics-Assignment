{
 "cells": [
  {
   "cell_type": "markdown",
   "id": "92ef497f",
   "metadata": {},
   "source": [
    "**1.What are Escape characters ? and how do you use them ?**\n",
    "\n",
    "Escape characters represent characters in string values that would otherwise be difficult or impossible to type into code. we can use the backslash character to escape a single character or symbol\n",
    "example: \\t, \\n\n",
    "\n",
    "**2.What do the escape characters n and t stand for ?**\n",
    "\n",
    "\\n is a newline, \\t is a tab\n",
    "\n",
    "**3.What is the way to include backslash character in a string?**\n",
    "\n",
    "The \\\\ escape character will represent the backslash character in a string\n",
    "\n",
    "**4.The string \"Howl's Moving Castle\" is a correct value. Why isn't the single quote character in the word Howl's not escaped a problem ?**\n",
    "\n",
    "The string \"Howl's Moving Castle\" escaped the problem because it is wrapped inside double quotes. if its wrapped inside single quotes then we have to use escape character \\' to show single quote in the final output\n",
    "'Howl\\'s Moving Castle' -> 'Howl's Moving Castle'\n",
    "\n",
    "**5.How do you write a string of newlines if you don't want to use the n character?**\n",
    "\n",
    "Multiline string allow you to use newlines in string without the \\n escape character"
   ]
  },
  {
   "cell_type": "code",
   "execution_count": 2,
   "id": "e29f1d49",
   "metadata": {},
   "outputs": [
    {
     "name": "stdout",
     "output_type": "stream",
     "text": [
      "Presidency University\n",
      "Masters in Economics Course\n"
     ]
    }
   ],
   "source": [
    "# Example:\n",
    "a = '''Presidency University\n",
    "Masters in Economics Course'''\n",
    "print(a)"
   ]
  },
  {
   "cell_type": "markdown",
   "id": "b410c3b7",
   "metadata": {},
   "source": [
    "**6.What are the values of the given expressions ?**\n",
    "\n",
    "\n",
    "'Hello, world!'[1]\n",
    "\n",
    "'Hello, world!'[0:5]\n",
    "\n",
    "'Hello, world!'[:5]\n",
    "\n",
    "'Hello, world!'[3:]"
   ]
  },
  {
   "cell_type": "markdown",
   "id": "d0a4e435",
   "metadata": {},
   "source": [
    "**ANS:**\n",
    "\n",
    "'Hello, world!'[1] -> 'e'\n",
    "\n",
    "'Hello, world!'[0:5] -> 'Hello'\n",
    "\n",
    "'Hello, world!'[:5] -> 'Hello'\n",
    "\n",
    "'Hello, world!'[3:] -> 'lo, world!'"
   ]
  },
  {
   "cell_type": "markdown",
   "id": "914dbebd",
   "metadata": {},
   "source": [
    "**7.What are the values of the following expressions ?**\n",
    "\n",
    "'Hello'.upper()\n",
    "\n",
    "'Hello'.upper().isupper()\n",
    "\n",
    "'Hello'.upper().lower()"
   ]
  },
  {
   "cell_type": "markdown",
   "id": "4490268e",
   "metadata": {},
   "source": [
    "**ANS:**\n",
    "    \n",
    "The values for the given expressions are:\n",
    "\n",
    "'Hello'.upper() -> 'HELLO'\n",
    "\n",
    "'Hello'.upper().isupper() -> True\n",
    "\n",
    "'Hello'.upper().lower() -> 'hello'"
   ]
  },
  {
   "cell_type": "markdown",
   "id": "b9792348",
   "metadata": {},
   "source": [
    "**8.What are the values of the following expressions ?**\n",
    "\n",
    "'Remember, remember, the fifth of July.'.split()\n",
    "\n",
    "'-'.join('There can only one'.split())"
   ]
  },
  {
   "cell_type": "markdown",
   "id": "74dc955c",
   "metadata": {},
   "source": [
    "**ANS:**\n"
   ]
  },
  {
   "cell_type": "markdown",
   "id": "1ea5f6c3",
   "metadata": {},
   "source": [
    "'Remember, remember, the fifith of July.'.split() -> ['Remember,', 'remember,', 'the', 'fifith', 'of', 'July.']\n",
    "\n",
    "'-'.join('There can only one'.split()) -> 'There-can-only-one'"
   ]
  },
  {
   "cell_type": "markdown",
   "id": "aa8a104f",
   "metadata": {},
   "source": [
    "**9.What are the methods for right-justifying, left-justifying and centering a string ?**\n",
    "\n",
    "The rjust(),ljust(),center() string methods, respectively\n",
    "\n",
    "**10.What is the best way to remove whitespace characters from the start or end ?**\n",
    "\n",
    "The lstrip() and rstrip() methods remove whitesapce characters from the left and right ends of a string respectively"
   ]
  }
 ],
 "metadata": {
  "kernelspec": {
   "display_name": "Python 3 (ipykernel)",
   "language": "python",
   "name": "python3"
  },
  "language_info": {
   "codemirror_mode": {
    "name": "ipython",
    "version": 3
   },
   "file_extension": ".py",
   "mimetype": "text/x-python",
   "name": "python",
   "nbconvert_exporter": "python",
   "pygments_lexer": "ipython3",
   "version": "3.9.13"
  }
 },
 "nbformat": 4,
 "nbformat_minor": 5
}
