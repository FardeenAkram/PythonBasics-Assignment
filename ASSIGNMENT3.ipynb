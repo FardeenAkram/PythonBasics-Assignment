{
 "cells": [
  {
   "cell_type": "markdown",
   "id": "63bb9c09",
   "metadata": {},
   "source": [
    "**1. Why are functions advantageous to have in your programs?**\n",
    "\n",
    "The use of functions makes a program more readable. It's frequently difficult to read a large program. Breaking the code down into smaller functions keeps the program structured, understandable, and reusable. The function can be reused countless times after it is defined."
   ]
  },
  {
   "cell_type": "markdown",
   "id": "3afafe35",
   "metadata": {},
   "source": [
    "**2. When does the code in a function run: when it's specified or when it's called?**\n",
    "\n",
    "A function is a block of code which only runs when it is called."
   ]
  },
  {
   "cell_type": "markdown",
   "id": "09985518",
   "metadata": {},
   "source": [
    "**3. What statement creates a function?**\n",
    "\n",
    "In Python, you define a function with the def keyword, then write the function identifier (name) followed by parentheses and a colon. The next thing you have to do is make sure you indent with a tab or 4 spaces, and then specify what you want the function to do for you."
   ]
  },
  {
   "cell_type": "markdown",
   "id": "be7071e9",
   "metadata": {},
   "source": [
    "**4. What is the difference between a function and a function call?**\n",
    "\n",
    "A function is a piece of code which enhanced the reusability and modularity of your program. It means that piece of code need not be written again. A function call means invoking or calling that function. Unless a function is called there is no use of that function."
   ]
  },
  {
   "cell_type": "markdown",
   "id": "18a262f5",
   "metadata": {},
   "source": [
    "**5. How many global scopes are there in a Python program? How many local scopes?**\n",
    "\n",
    "There's only one global Python scope per program execution.\n",
    "Local (or function) scope is the code block or body of any Python function or lambda expression. This Python scope contains the names that you define inside the function."
   ]
  },
  {
   "cell_type": "markdown",
   "id": "d0098605",
   "metadata": {},
   "source": [
    "**6. What happens to variables in a local scope when the function call returns?**\n",
    "\n",
    "Each call of the function creates new local variables, and their lifetimes expire when the function returns to the caller."
   ]
  },
  {
   "cell_type": "markdown",
   "id": "9a322edf",
   "metadata": {},
   "source": [
    "**7. What is the concept of a return value? Is it possible to have a return value in an expression?**\n",
    "\n",
    "A return statement is used to end the execution of the function call and “returns” the result (value of the expression following the return keyword) to the caller. The statements after the return statements are not executed. If the return statement is without any expression, then the special value None is returned. A return statement is overall used to invoke a function so that the passed statements can be executed. \n",
    "\n",
    "Yes, it is possible to have a return value in an expression."
   ]
  },
  {
   "cell_type": "markdown",
   "id": "56333b23",
   "metadata": {},
   "source": [
    "**8. If a function does not have a return statement, what is the return value of a call to that function?**\n",
    "\n",
    "Regardless of how long and complex your functions are, any function without an explicit return statement, or one with a return statement without a return value, will return None ."
   ]
  },
  {
   "cell_type": "markdown",
   "id": "09ff23aa",
   "metadata": {},
   "source": [
    "**9. How do you make a function variable refer to the global variable?**\n",
    "\n",
    "Normally, when you create a variable inside a function, that variable is local, and can only be used inside that function. To create a global variable inside a function, you can use the global keyword."
   ]
  },
  {
   "cell_type": "markdown",
   "id": "94caf9cc",
   "metadata": {},
   "source": [
    "**10. What is the data type of None?**\n",
    "\n",
    "None is a data type of its own (NoneType) and only None can be None.\n"
   ]
  },
  {
   "cell_type": "markdown",
   "id": "6151edc2",
   "metadata": {},
   "source": [
    "**11. What does the sentence import areallyourpetsnamederic do?**\n",
    "\n",
    "That import statement imports a module named areallyourpetsnamederic."
   ]
  },
  {
   "cell_type": "markdown",
   "id": "26f93ceb",
   "metadata": {},
   "source": [
    "**12. If you had a bacon() feature in a spam module, what would you call it after importing spam?**\n",
    "\n",
    "This function can be called with spam. bacon()."
   ]
  },
  {
   "cell_type": "markdown",
   "id": "fbec0c82",
   "metadata": {},
   "source": [
    "**13. What can you do to save a programme from crashing if it encounters an error?**\n",
    "\n",
    "If an error occurs in a program, we don’t want the program to unexpectedly crash on the user. Instead, error handling can be used to notify the user of why the error occurred and gracefully exit the process that caused the error."
   ]
  },
  {
   "cell_type": "markdown",
   "id": "c65ed834",
   "metadata": {},
   "source": [
    "**14. What is the purpose of the try clause? What is the purpose of the except clause?**\n",
    "\n",
    "The try block lets you test a block of code for errors. The except block lets you handle the error. \n"
   ]
  }
 ],
 "metadata": {
  "kernelspec": {
   "display_name": "Python 3 (ipykernel)",
   "language": "python",
   "name": "python3"
  },
  "language_info": {
   "codemirror_mode": {
    "name": "ipython",
    "version": 3
   },
   "file_extension": ".py",
   "mimetype": "text/x-python",
   "name": "python",
   "nbconvert_exporter": "python",
   "pygments_lexer": "ipython3",
   "version": "3.9.13"
  }
 },
 "nbformat": 4,
 "nbformat_minor": 5
}
